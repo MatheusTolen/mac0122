{
 "cells": [
  {
   "cell_type": "code",
   "execution_count": 62,
   "metadata": {},
   "outputs": [],
   "source": [
    "def recorte_imagem(imagem, tlx, tly, brx, bry):\n",
    "    ''' (list, int, int, int, int) -> list\n",
    "\n",
    "    Recebe uma imagem e as coordenadas (tlx, tly) do ponto TL (Top-Left) \n",
    "    e (brx, bry) do ponto BR (Bottom-Right), representando um retângulo \n",
    "    de cantos TL e BR. A função cria e retorna uma imagem de dimensão\n",
    "    (brx-tlx) x (bry-tly), com conteúdo igual ao do retângulo TLxBR. \n",
    "    Observe que os pontos na linha brx e coluna bry não fazem parte do retângulo.\n",
    "    '''\n",
    "        \n",
    "    newimg = [0] * (brx-tlx)       # numero de linhas da nova imagem (lista)\n",
    "    for i in range(len(newimg)):   # atribui os valores de cada linha da nova imagem (lista)\n",
    "        newimg[i] = imagem[tlx][tly:bry]\n",
    "        tlx += 1\n",
    "    \n",
    "    return newimg                  # retorna a nova imagem\n",
    "    "
   ]
  },
  {
   "cell_type": "code",
   "execution_count": 63,
   "metadata": {},
   "outputs": [
    {
     "name": "stdout",
     "output_type": "stream",
     "text": [
      "2\n"
     ]
    },
    {
     "data": {
      "text/plain": [
       "[[7, 8], [9, 8]]"
      ]
     },
     "execution_count": 63,
     "metadata": {},
     "output_type": "execute_result"
    }
   ],
   "source": [
    "imagem   = [[1, 2, 3, 4, 5], [6, 7, 8, 9, 0],[0, 9, 8, 7, 6], [1, 2, 3, 4, 5]]\n",
    "\n",
    "recorte_imagem(imagem, 1, 1, 3, 3)"
   ]
  },
  {
   "cell_type": "code",
   "execution_count": null,
   "metadata": {},
   "outputs": [],
   "source": []
  }
 ],
 "metadata": {
  "kernelspec": {
   "display_name": "Python 3",
   "language": "python",
   "name": "python3"
  },
  "language_info": {
   "codemirror_mode": {
    "name": "ipython",
    "version": 3
   },
   "file_extension": ".py",
   "mimetype": "text/x-python",
   "name": "python",
   "nbconvert_exporter": "python",
   "pygments_lexer": "ipython3",
   "version": "3.6.5"
  }
 },
 "nbformat": 4,
 "nbformat_minor": 2
}
